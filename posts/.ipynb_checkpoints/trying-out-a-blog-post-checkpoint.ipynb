{
 "metadata": {
  "name": "",
  "signature": "sha256:cecf0d3bf8e752d5be3e4bd3e549a8a789bf1a216289afcd7ea29db4952b1f99"
 },
 "nbformat": 3,
 "nbformat_minor": 0,
 "worksheets": [
  {
   "cells": [
    {
     "cell_type": "markdown",
     "metadata": {},
     "source": [
      "Let's give this a try with a [link](http://johntfoster.github.io/).  I really love this stuff"
     ]
    }
   ],
   "metadata": {}
  }
 ]
}